{
 "cells": [
  {
   "cell_type": "code",
   "execution_count": 1,
   "metadata": {},
   "outputs": [
    {
     "name": "stderr",
     "output_type": "stream",
     "text": [
      "Using TensorFlow backend.\n"
     ]
    }
   ],
   "source": [
    "from keras.preprocessing.image import ImageDataGenerator\n",
    "from keras.preprocessing.image import ImageDataGenerator, array_to_img, img_to_array, load_img"
   ]
  },
  {
   "cell_type": "code",
   "execution_count": 2,
   "metadata": {},
   "outputs": [],
   "source": [
    "from PIL import Image\n",
    "# creating image object \n",
    "#img = Image.open(r\"cat.001\") \n",
    "  \n",
    "# using convert method for img1 \n",
    "#img1 = img.convert(\"L\") \n",
    "#img1.show() "
   ]
  },
  {
   "cell_type": "code",
   "execution_count": 3,
   "metadata": {},
   "outputs": [],
   "source": [
    "datagen = ImageDataGenerator(\n",
    "    rotation_range=40,\n",
    "    width_shift_range=0.2,\n",
    "    height_shift_range=0.2,\n",
    "    rescale=1./255,\n",
    "    shear_range=0.2,\n",
    "    zoom_range = 0.2,\n",
    "    horizontal_flip = True,\n",
    "    fill_mode='nearest')"
   ]
  },
  {
   "cell_type": "code",
   "execution_count": null,
   "metadata": {},
   "outputs": [],
   "source": []
  },
  {
   "cell_type": "code",
   "execution_count": 6,
   "metadata": {},
   "outputs": [],
   "source": [
    "img = load_img('cat_vs_dog_dataset\\data\\Train\\Cats/cat.001.jpg')  # this is a PIL image\n",
    "#data/train/cats/cat.001.jpg\n",
    "x = img_to_array(img)  # this is a Numpy array with shape (3, 150, 150)\n",
    "x = x.reshape((1,) + x.shape)  # this is a Numpy array with shape (1, 3, 150, 150)\n",
    "\n",
    "i = 0\n",
    "for batch in datagen.flow(x, batch_size=1,\n",
    "                          save_to_dir='preview', save_prefix='cat', save_format='jpeg'):\n",
    "    i += 1\n",
    "    if i > 20:\n",
    "        break  # otherwise the generator would loop indefinitely"
   ]
  },
  {
   "cell_type": "code",
   "execution_count": 7,
   "metadata": {},
   "outputs": [],
   "source": [
    "from keras.models import Sequential\n",
    "from keras.layers import Conv2D, MaxPooling2D\n",
    "from keras.layers import Activation, Dropout, Flatten, Dense"
   ]
  },
  {
   "cell_type": "code",
   "execution_count": 8,
   "metadata": {},
   "outputs": [],
   "source": [
    "model = Sequential()\n",
    "model.add(Conv2D(32, (3, 3), input_shape=(150,150,3),padding = 'same'))\n",
    "model.add(Activation('relu'))\n",
    "model.add(MaxPooling2D(pool_size=(2, 2), padding='same'))\n",
    "#model.add(MaxPooling2D(pool_size=(2, 2), dim_ordering=\"th\"))\n",
    "model.add(Conv2D(32, (3, 3)))\n",
    "model.add(Activation('relu'))\n",
    "model.add(MaxPooling2D(pool_size=(2, 2), padding='same'))\n",
    "\n",
    "model.add(Conv2D(64, (3, 3)))\n",
    "model.add(Activation('relu'))\n",
    "model.add(MaxPooling2D(pool_size=(2, 2), padding='same'))\n",
    "\n",
    "#model.add(Conv2D(32, (3, 3), input_shape=(150, 150, 3),padding='same'))\n",
    "# the model so far outputs 3D feature maps (height, width, features)"
   ]
  },
  {
   "cell_type": "code",
   "execution_count": 9,
   "metadata": {},
   "outputs": [],
   "source": [
    "model.add(Flatten())  # this converts our 3D feature maps to 1D feature vectors\n",
    "model.add(Dense(64))\n",
    "model.add(Activation('relu'))\n",
    "model.add(Dropout(0.5))\n",
    "model.add(Dense(1))\n",
    "model.add(Activation('sigmoid'))"
   ]
  },
  {
   "cell_type": "code",
   "execution_count": 10,
   "metadata": {},
   "outputs": [],
   "source": [
    "model.compile(loss='binary_crossentropy',\n",
    "              optimizer='rmsprop',\n",
    "              metrics=['accuracy'])"
   ]
  },
  {
   "cell_type": "code",
   "execution_count": 11,
   "metadata": {},
   "outputs": [],
   "source": [
    "batch_size = 16\n",
    "\n",
    "# this is the augmentation configuration we will use for training\n",
    "train_datagen = ImageDataGenerator(\n",
    "        rescale=1./255,\n",
    "        shear_range=0.2,\n",
    "        zoom_range=0.2,\n",
    "        horizontal_flip=True)\n",
    "\n",
    "# this is the augmentation configuration we will use for testing:\n",
    "# only rescaling\n",
    "test_datagen = ImageDataGenerator(rescale=1./255)"
   ]
  },
  {
   "cell_type": "code",
   "execution_count": 12,
   "metadata": {},
   "outputs": [
    {
     "name": "stdout",
     "output_type": "stream",
     "text": [
      "Found 2000 images belonging to 2 classes.\n"
     ]
    }
   ],
   "source": [
    "# this is a generator that will read pictures found in\n",
    "# subfolers of 'data/train', and indefinitely generate\n",
    "# batches of augmented image data\n",
    "train_generator = train_datagen.flow_from_directory(\n",
    "        'cat_vs_dog_dataset\\data\\Train',  # this is the target directory\n",
    "        target_size=(150, 150),  # all images will be resized to 150x150\n",
    "        batch_size=batch_size,\n",
    "        class_mode='binary')  # since we use binary_crossentropy loss, we need binary labels"
   ]
  },
  {
   "cell_type": "code",
   "execution_count": 13,
   "metadata": {},
   "outputs": [
    {
     "name": "stdout",
     "output_type": "stream",
     "text": [
      "Found 2000 images belonging to 2 classes.\n"
     ]
    }
   ],
   "source": [
    "# this is a similar generator, for validation data\n",
    "validation_generator = test_datagen.flow_from_directory(\n",
    "        'cat_vs_dog_dataset\\data\\Validation',\n",
    "        target_size=(150, 150),\n",
    "        batch_size=batch_size,\n",
    "        class_mode='binary')"
   ]
  },
  {
   "cell_type": "code",
   "execution_count": 14,
   "metadata": {},
   "outputs": [
    {
     "name": "stdout",
     "output_type": "stream",
     "text": [
      "Epoch 1/50\n",
      "125/125 [==============================] - 60s 476ms/step - loss: 0.7120 - accuracy: 0.4940 - val_loss: 0.7114 - val_accuracy: 0.5250\n",
      "Epoch 2/50\n",
      "125/125 [==============================] - 49s 395ms/step - loss: 0.6972 - accuracy: 0.4900 - val_loss: 0.6854 - val_accuracy: 0.5475\n",
      "Epoch 3/50\n",
      "125/125 [==============================] - 47s 378ms/step - loss: 0.6905 - accuracy: 0.5505 - val_loss: 0.6757 - val_accuracy: 0.5400\n",
      "Epoch 4/50\n",
      "125/125 [==============================] - 46s 370ms/step - loss: 0.6881 - accuracy: 0.5425 - val_loss: 0.6872 - val_accuracy: 0.5962\n",
      "Epoch 5/50\n",
      "125/125 [==============================] - 46s 370ms/step - loss: 0.6821 - accuracy: 0.5575 - val_loss: 0.7023 - val_accuracy: 0.5838\n",
      "Epoch 6/50\n",
      "125/125 [==============================] - 46s 370ms/step - loss: 0.6779 - accuracy: 0.5675 - val_loss: 0.6721 - val_accuracy: 0.6175\n",
      "Epoch 7/50\n",
      "125/125 [==============================] - 46s 371ms/step - loss: 0.6793 - accuracy: 0.5640 - val_loss: 0.6878 - val_accuracy: 0.5412\n",
      "Epoch 8/50\n",
      "125/125 [==============================] - 47s 374ms/step - loss: 0.6757 - accuracy: 0.5710 - val_loss: 0.6186 - val_accuracy: 0.6000\n",
      "Epoch 9/50\n",
      "125/125 [==============================] - 46s 370ms/step - loss: 0.6801 - accuracy: 0.5710 - val_loss: 0.5349 - val_accuracy: 0.6150\n",
      "Epoch 10/50\n",
      "125/125 [==============================] - 46s 369ms/step - loss: 0.6752 - accuracy: 0.5730 - val_loss: 0.6800 - val_accuracy: 0.6025\n",
      "Epoch 11/50\n",
      "125/125 [==============================] - 46s 371ms/step - loss: 0.6725 - accuracy: 0.5855 - val_loss: 0.6295 - val_accuracy: 0.6200\n",
      "Epoch 12/50\n",
      "125/125 [==============================] - 46s 370ms/step - loss: 0.6631 - accuracy: 0.5950 - val_loss: 0.6500 - val_accuracy: 0.6225\n",
      "Epoch 13/50\n",
      "125/125 [==============================] - 46s 371ms/step - loss: 0.6584 - accuracy: 0.5940 - val_loss: 0.7407 - val_accuracy: 0.5263\n",
      "Epoch 14/50\n",
      "125/125 [==============================] - 46s 371ms/step - loss: 0.6553 - accuracy: 0.6215 - val_loss: 0.4940 - val_accuracy: 0.5888\n",
      "Epoch 15/50\n",
      "125/125 [==============================] - 46s 369ms/step - loss: 0.6483 - accuracy: 0.6060 - val_loss: 0.6469 - val_accuracy: 0.6288\n",
      "Epoch 16/50\n",
      "125/125 [==============================] - 46s 372ms/step - loss: 0.6548 - accuracy: 0.6090 - val_loss: 0.6340 - val_accuracy: 0.6288\n",
      "Epoch 17/50\n",
      "125/125 [==============================] - 46s 370ms/step - loss: 0.6481 - accuracy: 0.6200 - val_loss: 0.6874 - val_accuracy: 0.6425\n",
      "Epoch 18/50\n",
      "125/125 [==============================] - 46s 371ms/step - loss: 0.6444 - accuracy: 0.6265 - val_loss: 0.4936 - val_accuracy: 0.6562\n",
      "Epoch 19/50\n",
      "125/125 [==============================] - 46s 371ms/step - loss: 0.6449 - accuracy: 0.6405 - val_loss: 0.6105 - val_accuracy: 0.6612\n",
      "Epoch 20/50\n",
      "125/125 [==============================] - 46s 371ms/step - loss: 0.6456 - accuracy: 0.6190 - val_loss: 0.5559 - val_accuracy: 0.6862\n",
      "Epoch 21/50\n",
      "125/125 [==============================] - 47s 374ms/step - loss: 0.6377 - accuracy: 0.6380 - val_loss: 0.5909 - val_accuracy: 0.7150\n",
      "Epoch 22/50\n",
      "125/125 [==============================] - 46s 371ms/step - loss: 0.6346 - accuracy: 0.6465 - val_loss: 0.6227 - val_accuracy: 0.6850\n",
      "Epoch 23/50\n",
      "125/125 [==============================] - 46s 370ms/step - loss: 0.6450 - accuracy: 0.6570 - val_loss: 0.5794 - val_accuracy: 0.7013\n",
      "Epoch 24/50\n",
      "125/125 [==============================] - 47s 373ms/step - loss: 0.6116 - accuracy: 0.6610 - val_loss: 0.5736 - val_accuracy: 0.6513\n",
      "Epoch 25/50\n",
      "125/125 [==============================] - 46s 370ms/step - loss: 0.6209 - accuracy: 0.6560 - val_loss: 0.4692 - val_accuracy: 0.7075\n",
      "Epoch 26/50\n",
      "125/125 [==============================] - 47s 372ms/step - loss: 0.6210 - accuracy: 0.6615 - val_loss: 0.5487 - val_accuracy: 0.5875\n",
      "Epoch 27/50\n",
      "125/125 [==============================] - 46s 372ms/step - loss: 0.6279 - accuracy: 0.6505 - val_loss: 0.6564 - val_accuracy: 0.7175\n",
      "Epoch 28/50\n",
      "125/125 [==============================] - 46s 370ms/step - loss: 0.6115 - accuracy: 0.6595 - val_loss: 0.4173 - val_accuracy: 0.7250\n",
      "Epoch 29/50\n",
      "125/125 [==============================] - 46s 371ms/step - loss: 0.6205 - accuracy: 0.6530 - val_loss: 0.4876 - val_accuracy: 0.6812\n",
      "Epoch 30/50\n",
      "125/125 [==============================] - 46s 369ms/step - loss: 0.6193 - accuracy: 0.6575 - val_loss: 0.5238 - val_accuracy: 0.7125\n",
      "Epoch 31/50\n",
      "125/125 [==============================] - 46s 371ms/step - loss: 0.6269 - accuracy: 0.6750 - val_loss: 0.6756 - val_accuracy: 0.7150\n",
      "Epoch 32/50\n",
      "125/125 [==============================] - 46s 372ms/step - loss: 0.6257 - accuracy: 0.6640 - val_loss: 0.5276 - val_accuracy: 0.7138\n",
      "Epoch 33/50\n",
      "125/125 [==============================] - 46s 370ms/step - loss: 0.6078 - accuracy: 0.6620 - val_loss: 0.4465 - val_accuracy: 0.7525\n",
      "Epoch 34/50\n",
      "125/125 [==============================] - 46s 371ms/step - loss: 0.5970 - accuracy: 0.6845 - val_loss: 0.6035 - val_accuracy: 0.6762\n",
      "Epoch 35/50\n",
      "125/125 [==============================] - 46s 370ms/step - loss: 0.6296 - accuracy: 0.6750 - val_loss: 0.5641 - val_accuracy: 0.7150\n",
      "Epoch 36/50\n",
      "125/125 [==============================] - 46s 372ms/step - loss: 0.5979 - accuracy: 0.6930 - val_loss: 0.5241 - val_accuracy: 0.7600\n",
      "Epoch 37/50\n",
      "125/125 [==============================] - 46s 372ms/step - loss: 0.5996 - accuracy: 0.6830 - val_loss: 0.4872 - val_accuracy: 0.6988\n",
      "Epoch 38/50\n",
      "125/125 [==============================] - 46s 372ms/step - loss: 0.5869 - accuracy: 0.6895 - val_loss: 0.5409 - val_accuracy: 0.7513\n",
      "Epoch 39/50\n",
      "125/125 [==============================] - 46s 372ms/step - loss: 0.5939 - accuracy: 0.6850 - val_loss: 0.5290 - val_accuracy: 0.7100\n",
      "Epoch 40/50\n",
      "125/125 [==============================] - 46s 370ms/step - loss: 0.5818 - accuracy: 0.6910 - val_loss: 0.5475 - val_accuracy: 0.7362\n",
      "Epoch 41/50\n",
      "125/125 [==============================] - 47s 373ms/step - loss: 0.5856 - accuracy: 0.6985 - val_loss: 0.4793 - val_accuracy: 0.7212\n",
      "Epoch 42/50\n",
      "125/125 [==============================] - 47s 372ms/step - loss: 0.5868 - accuracy: 0.6935 - val_loss: 0.5529 - val_accuracy: 0.7688\n",
      "Epoch 43/50\n",
      "125/125 [==============================] - 46s 372ms/step - loss: 0.6006 - accuracy: 0.6840 - val_loss: 0.4113 - val_accuracy: 0.7325\n",
      "Epoch 44/50\n",
      "125/125 [==============================] - 47s 373ms/step - loss: 0.5844 - accuracy: 0.6955 - val_loss: 0.5322 - val_accuracy: 0.7588\n",
      "Epoch 45/50\n",
      "125/125 [==============================] - 49s 392ms/step - loss: 0.5946 - accuracy: 0.6905 - val_loss: 0.3855 - val_accuracy: 0.7563\n",
      "Epoch 46/50\n",
      "125/125 [==============================] - 47s 377ms/step - loss: 0.5913 - accuracy: 0.6740 - val_loss: 0.4644 - val_accuracy: 0.7625\n",
      "Epoch 47/50\n",
      "125/125 [==============================] - 49s 395ms/step - loss: 0.5871 - accuracy: 0.6975 - val_loss: 0.6581 - val_accuracy: 0.7475\n",
      "Epoch 48/50\n",
      "125/125 [==============================] - 47s 378ms/step - loss: 0.6058 - accuracy: 0.6865 - val_loss: 0.5935 - val_accuracy: 0.7400\n",
      "Epoch 49/50\n",
      "125/125 [==============================] - 47s 375ms/step - loss: 0.5819 - accuracy: 0.7030 - val_loss: 0.4237 - val_accuracy: 0.7700\n",
      "Epoch 50/50\n",
      "125/125 [==============================] - 52s 416ms/step - loss: 0.6144 - accuracy: 0.6825 - val_loss: 0.4748 - val_accuracy: 0.7437\n"
     ]
    }
   ],
   "source": [
    "model.fit_generator(\n",
    "        train_generator,\n",
    "        steps_per_epoch=2000 // batch_size,\n",
    "        epochs=50,\n",
    "        validation_data=validation_generator,\n",
    "        validation_steps=800 // batch_size)\n",
    "model.save_weights('first_try.h5')  # always save your weights after training or during training"
   ]
  },
  {
   "cell_type": "code",
   "execution_count": null,
   "metadata": {},
   "outputs": [],
   "source": []
  }
 ],
 "metadata": {
  "kernelspec": {
   "display_name": "Python 3",
   "language": "python",
   "name": "python3"
  },
  "language_info": {
   "codemirror_mode": {
    "name": "ipython",
    "version": 3
   },
   "file_extension": ".py",
   "mimetype": "text/x-python",
   "name": "python",
   "nbconvert_exporter": "python",
   "pygments_lexer": "ipython3",
   "version": "3.7.4"
  }
 },
 "nbformat": 4,
 "nbformat_minor": 2
}
